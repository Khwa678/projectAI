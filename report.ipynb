{
 "cells": [
  {
   "cell_type": "code",
   "execution_count": null,
   "id": "c33046b4-a1ce-43c6-a106-084a0aeed425",
   "metadata": {},
   "outputs": [],
   "source": [
    "pip install openai\n",
    "pip install requests\n",
    "pip install Pillow\n",
    "pip install ipywidgets\n",
    "pip install IPython\n"
   ]
  },
  {
   "cell_type": "code",
   "execution_count": null,
   "id": "bdf59b59-8daf-4c73-8ad8-12e74e289b98",
   "metadata": {},
   "outputs": [],
   "source": [
    "import openai\n",
    "\n",
    "# Set your OpenAI API key\n",
    "openai.api_key = \"YOUR_OPENAI_API_KEY\"\n"
   ]
  },
  {
   "cell_type": "code",
   "execution_count": null,
   "id": "838191ad-2fbd-4678-b3ae-004f0384f70a",
   "metadata": {},
   "outputs": [],
   "source": [
    "def generate_story(prompt, genre=\"Fantasy\", tone=\"Lighthearted\", scenes=5):\n",
    "    full_prompt = f\"\"\"\n",
    "    Write a {scenes}-scene {genre.lower()} story with {tone.lower()} tone.\n",
    "    Story idea: {prompt}\n",
    "    Structure:\n",
    "    1. Introduction / Setting\n",
    "    2. Rising Action / Conflict\n",
    "    3. Climax\n",
    "    4. Resolution\n",
    "    Provide text for each scene as: Scene 1: ..., Scene 2: ...\n",
    "    \"\"\"\n",
    "    \n",
    "    response = openai.ChatCompletion.create(\n",
    "        model=\"gpt-4\",\n",
    "        messages=[{\"role\":\"user\", \"content\": full_prompt}],\n",
    "        temperature=0.8\n",
    "    )\n",
    "    \n",
    "    story_text = response['choices'][0]['message']['content']\n",
    "    scenes_text = story_text.split(\"Scene\")[1:]  # Split into scenes\n",
    "    scenes_dict = {}\n",
    "    \n",
    "    for s in scenes_text:\n",
    "        idx = s.split(\":\")[0].strip()\n",
    "        text = \":\".join(s.split(\":\")[1:]).strip()\n",
    "        scenes_dict[f\"Scene {idx}\"] = text\n",
    "    \n",
    "    return scenes_dict\n",
    "\n",
    "\n",
    "def generate_story(prompt, genre=\"Fantasy\", tone=\"Lighthearted\", scenes=5):\n",
    "    full_prompt = f\"\"\"\n",
    "    Write a {scenes}-scene {genre.lower()} story with {tone.lower()} tone.\n",
    "    Story idea: {prompt}\n",
    "    Structure:\n",
    "    1. Introduction / Setting\n",
    "    2. Rising Action / Conflict\n",
    "    3. Climax\n",
    "    4. Resolution\n",
    "    Provide text for each scene as: Scene 1: ..., Scene 2: ...\n",
    "    \"\"\"\n",
    "    \n",
    "    response = openai.ChatCompletion.create(\n",
    "        model=\"gpt-4\",\n",
    "        messages=[{\"role\":\"user\", \"content\": full_prompt}],\n",
    "        temperature=0.8\n",
    "    )\n",
    "    \n",
    "    story_text = response['choices'][0]['message']['content']\n",
    "    scenes_text = story_text.split(\"Scene\")[1:]  # Split into scenes\n",
    "    scenes_dict = {}\n",
    "    \n",
    "    for s in scenes_text:\n",
    "        idx = s.split(\":\")[0].strip()\n",
    "        text = \":\".join(s.split(\":\")[1:]).strip()\n",
    "        scenes_dict[f\"Scene {idx}\"] = text\n",
    "    \n",
    "    return scenes_dict\n"
   ]
  },
  {
   "cell_type": "code",
   "execution_count": null,
   "id": "71a1d576-745b-4a74-8861-dfee4ca7a028",
   "metadata": {},
   "outputs": [],
   "source": [
    "from PIL import Image\n",
    "import requests\n",
    "from io import BytesIO\n",
    "\n",
    "def generate_image(prompt):\n",
    "    response = openai.Image.create(\n",
    "        prompt=prompt,\n",
    "        n=1,\n",
    "        size=\"512x512\"\n",
    "    )\n",
    "    \n",
    "    image_url = response['data'][0]['url']\n",
    "    image = Image.open(BytesIO(requests.get(image_url).content))\n",
    "    return image\n"
   ]
  },
  {
   "cell_type": "code",
   "execution_count": null,
   "id": "d5735bbc-e2c7-461b-957c-823eec9bb688",
   "metadata": {},
   "outputs": [],
   "source": [
    "from IPython.display import display\n",
    "\n",
    "def create_storybook(story_prompt, genre=\"Fantasy\", tone=\"Lighthearted\", scenes=5):\n",
    "    scenes_text = generate_story(story_prompt, genre, tone, scenes)\n",
    "    \n",
    "    storybook = {}\n",
    "    for scene_name, scene_text in scenes_text.items():\n",
    "        print(f\"--- {scene_name} ---\")\n",
    "        print(scene_text, \"\\n\")\n",
    "        img = generate_image(scene_text)\n",
    "        display(img)\n",
    "        storybook[scene_name] = {\"text\": scene_text, \"image\": img}\n",
    "    \n",
    "    return storybook\n"
   ]
  },
  {
   "cell_type": "code",
   "execution_count": null,
   "id": "689cfc63-cf60-4dac-8b77-ed2fc158e462",
   "metadata": {},
   "outputs": [],
   "source": [
    "story_prompt = \"A lonely robot finds a flower in a post-apocalyptic city.\"\n",
    "storybook = create_storybook(story_prompt, genre=\"Sci-Fi\", tone=\"Hopeful\", scenes=5)\n"
   ]
  },
  {
   "cell_type": "code",
   "execution_count": null,
   "id": "d5285bee-f359-4a21-966b-a09c950dc655",
   "metadata": {},
   "outputs": [],
   "source": [
    "print(\"Generating story text...\")\n",
    "story_text = generate_story(prompt)\n",
    "print(\"Story generated. Now generating images...\")\n"
   ]
  },
  {
   "cell_type": "code",
   "execution_count": null,
   "id": "caf78b29-90ce-4047-a7fe-911fed0217dd",
   "metadata": {},
   "outputs": [],
   "source": [
    "1+2\n"
   ]
  },
  {
   "cell_type": "code",
   "execution_count": null,
   "id": "6ef8120c-2af5-48c0-8263-556add5a23bf",
   "metadata": {},
   "outputs": [],
   "source": []
  },
  {
   "cell_type": "code",
   "execution_count": null,
   "id": "66d12886-dae4-4a65-9cf7-7fb537868845",
   "metadata": {},
   "outputs": [],
   "source": []
  },
  {
   "cell_type": "code",
   "execution_count": null,
   "id": "089fd2e8-391d-4089-95a5-d5657a47901c",
   "metadata": {},
   "outputs": [],
   "source": []
  },
  {
   "cell_type": "code",
   "execution_count": null,
   "id": "af787579-208a-45cf-9956-877e79d947c8",
   "metadata": {},
   "outputs": [],
   "source": []
  },
  {
   "cell_type": "code",
   "execution_count": null,
   "id": "59f27423-41f1-4011-b50c-d2185677a2ec",
   "metadata": {},
   "outputs": [],
   "source": []
  }
 ],
 "metadata": {
  "kernelspec": {
   "display_name": "Python [conda env:base] *",
   "language": "python",
   "name": "conda-base-py"
  },
  "language_info": {
   "codemirror_mode": {
    "name": "ipython",
    "version": 3
   },
   "file_extension": ".py",
   "mimetype": "text/x-python",
   "name": "python",
   "nbconvert_exporter": "python",
   "pygments_lexer": "ipython3",
   "version": "3.12.7"
  }
 },
 "nbformat": 4,
 "nbformat_minor": 5
}
